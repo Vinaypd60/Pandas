{
 "cells": [
  {
   "cell_type": "code",
   "execution_count": 2,
   "id": "06fbefd1-79d0-469e-8e51-1bd14c38a305",
   "metadata": {},
   "outputs": [],
   "source": [
    "import pandas as pd\n",
    "import numpy as np"
   ]
  },
  {
   "cell_type": "code",
   "execution_count": null,
   "id": "e0aadfda-48e5-4d6b-bda5-7dcc3c4cfcd1",
   "metadata": {},
   "outputs": [],
   "source": [
    "# sum(), count(), min(), max(), median(), var(), std()"
   ]
  },
  {
   "cell_type": "code",
   "execution_count": 3,
   "id": "54451e82-41b5-40b4-9f5f-05f4f1336c10",
   "metadata": {},
   "outputs": [
    {
     "name": "stdout",
     "output_type": "stream",
     "text": [
      "0    10\n",
      "1    20\n",
      "2    30\n",
      "3    40\n",
      "4    50\n",
      "5    60\n",
      "dtype: int64\n"
     ]
    }
   ],
   "source": [
    "s = pd.Series([10,20,30,40,50,60])\n",
    "print(s)"
   ]
  },
  {
   "cell_type": "code",
   "execution_count": 5,
   "id": "4fdedcf5-e2d2-4440-a4bb-4c505194bbe8",
   "metadata": {},
   "outputs": [
    {
     "name": "stdout",
     "output_type": "stream",
     "text": [
      "0    10\n",
      "1    20\n",
      "2    30\n",
      "3    40\n",
      "4    50\n",
      "5    60\n",
      "dtype: int64\n",
      "-------------\n",
      "210\n"
     ]
    }
   ],
   "source": [
    "s = pd.Series([10,20,30,40,50,60])\n",
    "print(s)\n",
    "print(\"-------------\")\n",
    "sm=s.sum()\n",
    "print(sm)"
   ]
  },
  {
   "cell_type": "code",
   "execution_count": 7,
   "id": "cb76b328-89d3-4fc5-a1ad-52e0e1e9b10d",
   "metadata": {},
   "outputs": [
    {
     "name": "stdout",
     "output_type": "stream",
     "text": [
      "0    10.0\n",
      "1    20.0\n",
      "2     NaN\n",
      "3    30.0\n",
      "4    40.0\n",
      "5    50.0\n",
      "6    60.0\n",
      "7     NaN\n",
      "dtype: float64\n",
      "-------------\n",
      "210.0\n"
     ]
    }
   ],
   "source": [
    "s = pd.Series([10,20,np.NaN,30,40,50,60,None])\n",
    "print(s)\n",
    "print(\"-------------\")\n",
    "sm=s.sum()\n",
    "print(sm)"
   ]
  },
  {
   "cell_type": "code",
   "execution_count": 8,
   "id": "21e2f63b-0228-4450-b32e-4a84aaf86c2d",
   "metadata": {},
   "outputs": [
    {
     "name": "stdout",
     "output_type": "stream",
     "text": [
      "0    10\n",
      "1    20\n",
      "2    30\n",
      "3    40\n",
      "4    50\n",
      "5    60\n",
      "dtype: int64\n",
      "-------------\n",
      "6\n"
     ]
    }
   ],
   "source": [
    "s = pd.Series([10,20,30,40,50,60])\n",
    "print(s)\n",
    "print(\"-------------\")\n",
    "sm=s.count()\n",
    "print(sm)"
   ]
  },
  {
   "cell_type": "code",
   "execution_count": 9,
   "id": "c390b904-e500-4d46-b3e1-ad62ea81061c",
   "metadata": {},
   "outputs": [
    {
     "name": "stdout",
     "output_type": "stream",
     "text": [
      "0    10\n",
      "1    20\n",
      "2    30\n",
      "3    40\n",
      "4    50\n",
      "5    60\n",
      "dtype: int64\n",
      "-------------\n",
      "10\n"
     ]
    }
   ],
   "source": [
    "s = pd.Series([10,20,30,40,50,60])\n",
    "print(s)\n",
    "print(\"-------------\")\n",
    "sm=s.min()\n",
    "print(sm)"
   ]
  },
  {
   "cell_type": "code",
   "execution_count": 10,
   "id": "ef1d20ce-b70f-4d77-bda4-6eb67ae1bd61",
   "metadata": {},
   "outputs": [
    {
     "name": "stdout",
     "output_type": "stream",
     "text": [
      "0    10\n",
      "1    20\n",
      "2    30\n",
      "3    40\n",
      "4    50\n",
      "5    60\n",
      "dtype: int64\n",
      "-------------\n",
      "60\n"
     ]
    }
   ],
   "source": [
    "s = pd.Series([10,20,30,40,50,60])\n",
    "print(s)\n",
    "print(\"-------------\")\n",
    "sm=s.max()\n",
    "print(sm)"
   ]
  },
  {
   "cell_type": "code",
   "execution_count": 12,
   "id": "f96a6b60-eaed-4a9b-8eef-e0b693fa09fd",
   "metadata": {},
   "outputs": [
    {
     "name": "stdout",
     "output_type": "stream",
     "text": [
      "0    10.0\n",
      "1    20.0\n",
      "2    30.0\n",
      "3    40.0\n",
      "4    50.0\n",
      "5    60.0\n",
      "6     NaN\n",
      "7     NaN\n",
      "dtype: float64\n",
      "-------------\n",
      "35.0\n"
     ]
    }
   ],
   "source": [
    "s = pd.Series([10,20,30,40,50,60,np.NaN,None])\n",
    "print(s)\n",
    "print(\"-------------\")\n",
    "sm=s.mean(skipna=True)\n",
    "print(sm)"
   ]
  },
  {
   "cell_type": "code",
   "execution_count": 14,
   "id": "ac5daf65-79fd-4946-a697-22223b166187",
   "metadata": {},
   "outputs": [
    {
     "name": "stdout",
     "output_type": "stream",
     "text": [
      "0    10\n",
      "1    20\n",
      "2    30\n",
      "3    40\n",
      "4    50\n",
      "5    60\n",
      "dtype: int64\n",
      "-------------\n",
      "35.0\n"
     ]
    }
   ],
   "source": [
    "s = pd.Series([10,20,30,40,50,60])\n",
    "print(s)\n",
    "print(\"-------------\")\n",
    "sm=s.median()\n",
    "print(sm)"
   ]
  },
  {
   "cell_type": "code",
   "execution_count": 16,
   "id": "9daeed8f-39a2-4201-b08e-8b14f07fff1c",
   "metadata": {},
   "outputs": [
    {
     "name": "stdout",
     "output_type": "stream",
     "text": [
      "0    10\n",
      "1    20\n",
      "2    30\n",
      "3    40\n",
      "4    50\n",
      "5    60\n",
      "dtype: int64\n",
      "-------------\n",
      "350.0\n"
     ]
    }
   ],
   "source": [
    "s = pd.Series([10,20,30,40,50,60])\n",
    "print(s)\n",
    "print(\"-------------\")\n",
    "sm=s.var()\n",
    "print(sm)"
   ]
  },
  {
   "cell_type": "code",
   "execution_count": 17,
   "id": "c45ca894-18e4-4a1c-ad91-0b0115d94ece",
   "metadata": {},
   "outputs": [
    {
     "name": "stdout",
     "output_type": "stream",
     "text": [
      "0    10\n",
      "1    20\n",
      "2    30\n",
      "3    40\n",
      "4    50\n",
      "5    60\n",
      "dtype: int64\n",
      "-------------\n",
      "0    10\n",
      "1    20\n",
      "2    30\n",
      "3    40\n",
      "4    50\n",
      "5    60\n",
      "dtype: int64\n"
     ]
    }
   ],
   "source": [
    "s = pd.Series([10,20,30,40,50,60])\n",
    "print(s)\n",
    "print(\"-------------\")\n",
    "sm=s.mode()\n",
    "print(sm)"
   ]
  },
  {
   "cell_type": "code",
   "execution_count": null,
   "id": "bd903b9c-7051-4e0b-bdd0-88a9082f06c8",
   "metadata": {},
   "outputs": [],
   "source": []
  },
  {
   "cell_type": "markdown",
   "id": "ff7da36f-7d90-4876-b5df-82f1da8d8773",
   "metadata": {},
   "source": [
    "# Misc operation on series obj"
   ]
  },
  {
   "cell_type": "code",
   "execution_count": null,
   "id": "c370de4f-e7e7-4e37-998a-7c6a7f8f284d",
   "metadata": {},
   "outputs": [],
   "source": []
  }
 ],
 "metadata": {
  "kernelspec": {
   "display_name": "Python 3 (ipykernel)",
   "language": "python",
   "name": "python3"
  },
  "language_info": {
   "codemirror_mode": {
    "name": "ipython",
    "version": 3
   },
   "file_extension": ".py",
   "mimetype": "text/x-python",
   "name": "python",
   "nbconvert_exporter": "python",
   "pygments_lexer": "ipython3",
   "version": "3.12.4"
  }
 },
 "nbformat": 4,
 "nbformat_minor": 5
}
