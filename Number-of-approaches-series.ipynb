{
 "cells": [
  {
   "cell_type": "code",
   "execution_count": 1,
   "id": "9025b401-3524-4ea6-8f77-ad7b5ef01d62",
   "metadata": {},
   "outputs": [],
   "source": [
    "import pandas as pd"
   ]
  },
  {
   "cell_type": "code",
   "execution_count": 2,
   "id": "b359d93f-5649-4b2c-94fb-e5863e7f0faa",
   "metadata": {},
   "outputs": [
    {
     "name": "stdout",
     "output_type": "stream",
     "text": [
      "2.2.2\n"
     ]
    }
   ],
   "source": [
    "print(pd.__version__)"
   ]
  },
  {
   "cell_type": "markdown",
   "id": "0e148d48-33fe-43fb-9208-7c5032dd7606",
   "metadata": {},
   "source": [
    "# syntax for creating series"
   ]
  },
  {
   "cell_type": "markdown",
   "id": "23074e0c-62b0-4d2b-b703-c4931420cb0c",
   "metadata": {},
   "source": [
    "## varname = pandas.Series(object,index,dtype)"
   ]
  },
  {
   "cell_type": "code",
   "execution_count": 3,
   "id": "a66c9023-99ab-4a91-9ad3-29e5f364048e",
   "metadata": {},
   "outputs": [
    {
     "name": "stdout",
     "output_type": "stream",
     "text": [
      "100 <class 'int'>\n"
     ]
    }
   ],
   "source": [
    "a = 100\n",
    "print(a,type(a))"
   ]
  },
  {
   "cell_type": "code",
   "execution_count": 5,
   "id": "77a11d65-88b8-4b58-b216-18a28f67fa48",
   "metadata": {},
   "outputs": [
    {
     "name": "stdout",
     "output_type": "stream",
     "text": [
      "0    100\n",
      "dtype: int64 <class 'pandas.core.series.Series'>\n"
     ]
    }
   ],
   "source": [
    "s = pd.Series(a)\n",
    "print(s,type(s))"
   ]
  },
  {
   "cell_type": "code",
   "execution_count": 9,
   "id": "2646e352-9dfa-462a-b5f5-87c8bbcb37da",
   "metadata": {},
   "outputs": [
    {
     "name": "stdout",
     "output_type": "stream",
     "text": [
      "0    12.34\n",
      "dtype: float64 <class 'pandas.core.series.Series'>\n"
     ]
    }
   ],
   "source": [
    "fo = 12.34\n",
    "s = pd.Series(fo)\n",
    "print(s,type(s))"
   ]
  },
  {
   "cell_type": "code",
   "execution_count": 10,
   "id": "50f35a44-fb3d-49a9-bd6e-96a7fb764977",
   "metadata": {},
   "outputs": [
    {
     "name": "stdout",
     "output_type": "stream",
     "text": [
      "0    True\n",
      "dtype: bool <class 'pandas.core.series.Series'>\n"
     ]
    }
   ],
   "source": [
    "b = True\n",
    "s = pd.Series(b)\n",
    "print(s,type(s))"
   ]
  },
  {
   "cell_type": "code",
   "execution_count": 11,
   "id": "88e5c6dc-6355-4a06-9f63-cd2730a43d93",
   "metadata": {},
   "outputs": [
    {
     "name": "stdout",
     "output_type": "stream",
     "text": [
      "0    0.0+2.2j\n",
      "dtype: complex128 <class 'pandas.core.series.Series'>\n"
     ]
    }
   ],
   "source": [
    "b = 2.2j\n",
    "s = pd.Series(b)\n",
    "print(s,type(s))"
   ]
  },
  {
   "cell_type": "code",
   "execution_count": 13,
   "id": "8678377d-c7f5-49e3-af2f-e1d835988517",
   "metadata": {},
   "outputs": [
    {
     "name": "stdout",
     "output_type": "stream",
     "text": [
      "0    100.0\n",
      "dtype: float64 <class 'pandas.core.series.Series'>\n"
     ]
    }
   ],
   "source": [
    "a = 100\n",
    "s = pd.Series(a,dtype=float)\n",
    "print(s,type(s))"
   ]
  },
  {
   "cell_type": "code",
   "execution_count": 15,
   "id": "db0f1141-2d85-4615-b6d1-2f2f213b7263",
   "metadata": {},
   "outputs": [
    {
     "name": "stdout",
     "output_type": "stream",
     "text": [
      "0    Vinay\n",
      "dtype: object <class 'pandas.core.series.Series'>\n"
     ]
    }
   ],
   "source": [
    "v1 = \"Vinay\"\n",
    "s = pd.Series(v1)\n",
    "print(s,type(s))"
   ]
  },
  {
   "cell_type": "markdown",
   "id": "8f55c7e7-e2b5-40ff-bb6a-3f2c6c907dd9",
   "metadata": {},
   "source": [
    "# Creating a series of object by using range"
   ]
  },
  {
   "cell_type": "code",
   "execution_count": 16,
   "id": "6ab1a6a2-d2e1-4631-925e-02f396e1a448",
   "metadata": {},
   "outputs": [
    {
     "name": "stdout",
     "output_type": "stream",
     "text": [
      "0    0\n",
      "1    1\n",
      "2    2\n",
      "3    3\n",
      "4    4\n",
      "5    5\n",
      "6    6\n",
      "dtype: int64 <class 'pandas.core.series.Series'>\n"
     ]
    }
   ],
   "source": [
    "r = range(7)\n",
    "s = pd.Series(r)\n",
    "print(s,type(s))"
   ]
  },
  {
   "cell_type": "code",
   "execution_count": 17,
   "id": "9470407f-3fdb-4530-b8c5-9237422f578d",
   "metadata": {},
   "outputs": [
    {
     "name": "stdout",
     "output_type": "stream",
     "text": [
      "1    0\n",
      "2    1\n",
      "3    2\n",
      "4    3\n",
      "5    4\n",
      "6    5\n",
      "7    6\n",
      "dtype: int64 <class 'pandas.core.series.Series'>\n"
     ]
    }
   ],
   "source": [
    "r = range(7)\n",
    "s = pd.Series(r,index=[1,2,3,4,5,6,7])\n",
    "print(s,type(s))"
   ]
  },
  {
   "cell_type": "code",
   "execution_count": 18,
   "id": "e0b8d9e1-fb0a-43cc-a6a8-7250c751c838",
   "metadata": {},
   "outputs": [
    {
     "name": "stdout",
     "output_type": "stream",
     "text": [
      "ID1    0\n",
      "ID2    1\n",
      "ID3    2\n",
      "ID4    3\n",
      "ID5    4\n",
      "ID6    5\n",
      "ID7    6\n",
      "dtype: int64 <class 'pandas.core.series.Series'>\n"
     ]
    }
   ],
   "source": [
    "r = range(7)\n",
    "s = pd.Series(r,index=[\"ID1\",\"ID2\",\"ID3\",\"ID4\",\"ID5\",\"ID6\",\"ID7\",])\n",
    "print(s,type(s))"
   ]
  },
  {
   "cell_type": "code",
   "execution_count": 19,
   "id": "c1f9ac7e-58f9-49d9-adaf-040c9963ccb7",
   "metadata": {},
   "outputs": [
    {
     "data": {
      "text/plain": [
       "0"
      ]
     },
     "execution_count": 19,
     "metadata": {},
     "output_type": "execute_result"
    }
   ],
   "source": [
    "s[\"ID1\"]"
   ]
  },
  {
   "cell_type": "code",
   "execution_count": 20,
   "id": "f59951c0-bd0a-46be-b1a9-e0039947be52",
   "metadata": {},
   "outputs": [
    {
     "data": {
      "text/plain": [
       "5"
      ]
     },
     "execution_count": 20,
     "metadata": {},
     "output_type": "execute_result"
    }
   ],
   "source": [
    "s[\"ID6\"]"
   ]
  },
  {
   "cell_type": "code",
   "execution_count": 21,
   "id": "c9358034-f475-4b93-bc2b-2301a87e58e1",
   "metadata": {},
   "outputs": [
    {
     "name": "stdout",
     "output_type": "stream",
     "text": [
      "0    10.0\n",
      "1    12.0\n",
      "2    14.0\n",
      "3    16.0\n",
      "4    18.0\n",
      "5    20.0\n",
      "dtype: float64 <class 'pandas.core.series.Series'>\n"
     ]
    }
   ],
   "source": [
    "s = pd.Series(range(10,21,2),dtype=float)\n",
    "print(s,type(s))"
   ]
  },
  {
   "cell_type": "code",
   "execution_count": 23,
   "id": "c67016af-e621-4dbd-9b79-ad41ed4b1f41",
   "metadata": {},
   "outputs": [
    {
     "name": "stdout",
     "output_type": "stream",
     "text": [
      "RS    10.0\n",
      "RS    12.0\n",
      "RS    14.0\n",
      "RS    16.0\n",
      "RS    18.0\n",
      "RS    20.0\n",
      "dtype: float64 <class 'pandas.core.series.Series'>\n"
     ]
    }
   ],
   "source": [
    "s = pd.Series(range(10,21,2),index=[\"RS\",\"RS\",\"RS\",\"RS\",\"RS\",\"RS\"],dtype=float)\n",
    "print(s,type(s))"
   ]
  },
  {
   "cell_type": "markdown",
   "id": "3ce54fee-ce1c-470e-9a9d-e79d7048985c",
   "metadata": {},
   "source": [
    "# Creating a series object by using list / tuple with default indices"
   ]
  },
  {
   "cell_type": "code",
   "execution_count": 24,
   "id": "c45d87ca-a942-4393-87dd-41ad955029f1",
   "metadata": {},
   "outputs": [
    {
     "name": "stdout",
     "output_type": "stream",
     "text": [
      "0    10\n",
      "1    20\n",
      "2    30\n",
      "3    40\n",
      "4    50\n",
      "5    60\n",
      "6    70\n",
      "7    80\n",
      "dtype: int64 <class 'pandas.core.series.Series'>\n"
     ]
    }
   ],
   "source": [
    "lst = [10,20,30,40,50,60,70,80]\n",
    "s = pd.Series(lst)\n",
    "print(s,type(s))"
   ]
  },
  {
   "cell_type": "code",
   "execution_count": 25,
   "id": "05958aaf-8995-4489-be03-5585124025b0",
   "metadata": {},
   "outputs": [
    {
     "name": "stdout",
     "output_type": "stream",
     "text": [
      "0    10.0\n",
      "1    20.0\n",
      "2    30.0\n",
      "3    40.0\n",
      "4    50.0\n",
      "5    60.0\n",
      "6    70.0\n",
      "7    80.0\n",
      "dtype: float64 <class 'pandas.core.series.Series'>\n"
     ]
    }
   ],
   "source": [
    "lst = [10,20,30,40,50,60,70,80]\n",
    "s = pd.Series(lst,dtype=float)\n",
    "print(s,type(s))"
   ]
  },
  {
   "cell_type": "code",
   "execution_count": 28,
   "id": "02817708-6c80-4583-a46d-a8710b5ac029",
   "metadata": {},
   "outputs": [
    {
     "name": "stdout",
     "output_type": "stream",
     "text": [
      "1    10.0\n",
      "2    20.0\n",
      "3    30.0\n",
      "4    40.0\n",
      "5    50.0\n",
      "6    60.0\n",
      "7    70.0\n",
      "8    80.0\n",
      "dtype: float64 <class 'pandas.core.series.Series'>\n"
     ]
    }
   ],
   "source": [
    "lst = [10,20,30,40,50,60,70,80]\n",
    "s = pd.Series(lst,index = [1,2,3,4,5,6,7,8],dtype=float)\n",
    "print(s,type(s))"
   ]
  },
  {
   "cell_type": "code",
   "execution_count": 30,
   "id": "bc29012d-db1e-4562-974d-33ab3aced2ac",
   "metadata": {},
   "outputs": [
    {
     "name": "stdout",
     "output_type": "stream",
     "text": [
      "1    10.0\n",
      "2    20.0\n",
      "3    30.0\n",
      "4    40.0\n",
      "5    50.0\n",
      "6    60.0\n",
      "7    70.0\n",
      "8    80.0\n",
      "dtype: float64 <class 'pandas.core.series.Series'>\n"
     ]
    }
   ],
   "source": [
    "lst = [10,20,30,40,50,60,70,80]\n",
    "s = pd.Series(lst,index = [int(x) for x in range(1,9)],dtype=float)\n",
    "print(s,type(s))"
   ]
  },
  {
   "cell_type": "code",
   "execution_count": 31,
   "id": "1b339a68-dd59-46e2-95c8-c7c3e7fc86f7",
   "metadata": {},
   "outputs": [
    {
     "name": "stdout",
     "output_type": "stream",
     "text": [
      "ID1    10.0\n",
      "ID2    20.0\n",
      "ID3    30.0\n",
      "ID4    40.0\n",
      "ID5    50.0\n",
      "ID6    60.0\n",
      "ID7    70.0\n",
      "ID8    80.0\n",
      "dtype: float64 <class 'pandas.core.series.Series'>\n"
     ]
    }
   ],
   "source": [
    "lst = [10,20,30,40,50,60,70,80]\n",
    "s = pd.Series(lst,index = [\"ID\"+str(int(x)) for x in range(1,9)],dtype=float)\n",
    "print(s,type(s))"
   ]
  },
  {
   "cell_type": "code",
   "execution_count": 32,
   "id": "ef4a9991-4866-4d3e-b630-9166a7f8412f",
   "metadata": {},
   "outputs": [
    {
     "name": "stdout",
     "output_type": "stream",
     "text": [
      "ID1    10.0\n",
      "ID2    20.0\n",
      "ID3    30.0\n",
      "ID4    40.0\n",
      "ID5    50.0\n",
      "ID6    60.0\n",
      "ID7    70.0\n",
      "ID8    80.0\n",
      "dtype: float64 <class 'pandas.core.series.Series'>\n"
     ]
    }
   ],
   "source": [
    "tup = (10,20,30,40,50,60,70,80)\n",
    "s = pd.Series(tup,index = [\"ID\"+str(int(x)) for x in range(1,9)],dtype=float)\n",
    "print(s,type(s))"
   ]
  },
  {
   "cell_type": "markdown",
   "id": "136c22f3-24c6-435b-a514-15c3b0eeb7be",
   "metadata": {},
   "source": [
    "# Creating a series object by using set with default indices"
   ]
  },
  {
   "cell_type": "code",
   "execution_count": 33,
   "id": "f1205ebe-a1b9-4269-a770-6e20db98353e",
   "metadata": {},
   "outputs": [
    {
     "name": "stdout",
     "output_type": "stream",
     "text": [
      "{400, 100, 500, 200, 300} <class 'set'>\n"
     ]
    }
   ],
   "source": [
    "S1 ={100,200,300,400,500} # Set never follows insertion order\n",
    "print(S1,type(S1))"
   ]
  },
  {
   "cell_type": "code",
   "execution_count": 38,
   "id": "7840732d-a850-4567-bb3b-e2e55c6f1869",
   "metadata": {},
   "outputs": [
    {
     "name": "stdout",
     "output_type": "stream",
     "text": [
      "{400, 100, 500, 200, 300} <class 'set'>\n",
      "-----------------------\n"
     ]
    },
    {
     "ename": "TypeError",
     "evalue": "'set' type is unordered",
     "output_type": "error",
     "traceback": [
      "\u001b[1;31m---------------------------------------------------------------------------\u001b[0m",
      "\u001b[1;31mTypeError\u001b[0m                                 Traceback (most recent call last)",
      "Cell \u001b[1;32mIn[38], line 4\u001b[0m\n\u001b[0;32m      2\u001b[0m \u001b[38;5;28mprint\u001b[39m(S1,\u001b[38;5;28mtype\u001b[39m(S1))\n\u001b[0;32m      3\u001b[0m \u001b[38;5;28mprint\u001b[39m(\u001b[38;5;124m\"\u001b[39m\u001b[38;5;124m-----------------------\u001b[39m\u001b[38;5;124m\"\u001b[39m)\n\u001b[1;32m----> 4\u001b[0m s \u001b[38;5;241m=\u001b[39m \u001b[43mpd\u001b[49m\u001b[38;5;241;43m.\u001b[39;49m\u001b[43mSeries\u001b[49m\u001b[43m(\u001b[49m\u001b[43mS1\u001b[49m\u001b[43m)\u001b[49m \u001b[38;5;66;03m#TypeError: 'set' type is unordered\u001b[39;00m\n\u001b[0;32m      5\u001b[0m \u001b[38;5;28mprint\u001b[39m(s,\u001b[38;5;28mtype\u001b[39m(s))\n",
      "File \u001b[1;32m~\\AppData\\Local\\anaconda311\\Lib\\site-packages\\pandas\\core\\series.py:584\u001b[0m, in \u001b[0;36mSeries.__init__\u001b[1;34m(self, data, index, dtype, name, copy, fastpath)\u001b[0m\n\u001b[0;32m    582\u001b[0m         data \u001b[38;5;241m=\u001b[39m data\u001b[38;5;241m.\u001b[39mcopy()\n\u001b[0;32m    583\u001b[0m \u001b[38;5;28;01melse\u001b[39;00m:\n\u001b[1;32m--> 584\u001b[0m     data \u001b[38;5;241m=\u001b[39m \u001b[43msanitize_array\u001b[49m\u001b[43m(\u001b[49m\u001b[43mdata\u001b[49m\u001b[43m,\u001b[49m\u001b[43m \u001b[49m\u001b[43mindex\u001b[49m\u001b[43m,\u001b[49m\u001b[43m \u001b[49m\u001b[43mdtype\u001b[49m\u001b[43m,\u001b[49m\u001b[43m \u001b[49m\u001b[43mcopy\u001b[49m\u001b[43m)\u001b[49m\n\u001b[0;32m    586\u001b[0m     manager \u001b[38;5;241m=\u001b[39m _get_option(\u001b[38;5;124m\"\u001b[39m\u001b[38;5;124mmode.data_manager\u001b[39m\u001b[38;5;124m\"\u001b[39m, silent\u001b[38;5;241m=\u001b[39m\u001b[38;5;28;01mTrue\u001b[39;00m)\n\u001b[0;32m    587\u001b[0m     \u001b[38;5;28;01mif\u001b[39;00m manager \u001b[38;5;241m==\u001b[39m \u001b[38;5;124m\"\u001b[39m\u001b[38;5;124mblock\u001b[39m\u001b[38;5;124m\"\u001b[39m:\n",
      "File \u001b[1;32m~\\AppData\\Local\\anaconda311\\Lib\\site-packages\\pandas\\core\\construction.py:642\u001b[0m, in \u001b[0;36msanitize_array\u001b[1;34m(data, index, dtype, copy, allow_2d)\u001b[0m\n\u001b[0;32m    633\u001b[0m     \u001b[38;5;28;01mreturn\u001b[39;00m sanitize_array(\n\u001b[0;32m    634\u001b[0m         data,\n\u001b[0;32m    635\u001b[0m         index\u001b[38;5;241m=\u001b[39mindex,\n\u001b[1;32m   (...)\u001b[0m\n\u001b[0;32m    638\u001b[0m         allow_2d\u001b[38;5;241m=\u001b[39mallow_2d,\n\u001b[0;32m    639\u001b[0m     )\n\u001b[0;32m    641\u001b[0m \u001b[38;5;28;01melse\u001b[39;00m:\n\u001b[1;32m--> 642\u001b[0m     \u001b[43m_sanitize_non_ordered\u001b[49m\u001b[43m(\u001b[49m\u001b[43mdata\u001b[49m\u001b[43m)\u001b[49m\n\u001b[0;32m    643\u001b[0m     \u001b[38;5;66;03m# materialize e.g. generators, convert e.g. tuples, abc.ValueView\u001b[39;00m\n\u001b[0;32m    644\u001b[0m     data \u001b[38;5;241m=\u001b[39m \u001b[38;5;28mlist\u001b[39m(data)\n",
      "File \u001b[1;32m~\\AppData\\Local\\anaconda311\\Lib\\site-packages\\pandas\\core\\construction.py:693\u001b[0m, in \u001b[0;36m_sanitize_non_ordered\u001b[1;34m(data)\u001b[0m\n\u001b[0;32m    689\u001b[0m \u001b[38;5;250m\u001b[39m\u001b[38;5;124;03m\"\"\"\u001b[39;00m\n\u001b[0;32m    690\u001b[0m \u001b[38;5;124;03mRaise only for unordered sets, e.g., not for dict_keys\u001b[39;00m\n\u001b[0;32m    691\u001b[0m \u001b[38;5;124;03m\"\"\"\u001b[39;00m\n\u001b[0;32m    692\u001b[0m \u001b[38;5;28;01mif\u001b[39;00m \u001b[38;5;28misinstance\u001b[39m(data, (\u001b[38;5;28mset\u001b[39m, \u001b[38;5;28mfrozenset\u001b[39m)):\n\u001b[1;32m--> 693\u001b[0m     \u001b[38;5;28;01mraise\u001b[39;00m \u001b[38;5;167;01mTypeError\u001b[39;00m(\u001b[38;5;124mf\u001b[39m\u001b[38;5;124m\"\u001b[39m\u001b[38;5;124m'\u001b[39m\u001b[38;5;132;01m{\u001b[39;00m\u001b[38;5;28mtype\u001b[39m(data)\u001b[38;5;241m.\u001b[39m\u001b[38;5;18m__name__\u001b[39m\u001b[38;5;132;01m}\u001b[39;00m\u001b[38;5;124m'\u001b[39m\u001b[38;5;124m type is unordered\u001b[39m\u001b[38;5;124m\"\u001b[39m)\n",
      "\u001b[1;31mTypeError\u001b[0m: 'set' type is unordered"
     ]
    }
   ],
   "source": [
    "S1 ={100,200,300,400,500} # Set never follows insertion order\n",
    "print(S1,type(S1))\n",
    "print(\"-----------------------\")\n",
    "s = pd.Series(S1) #TypeError: 'set' type is unordered\n",
    "print(s,type(s))"
   ]
  },
  {
   "cell_type": "code",
   "execution_count": 40,
   "id": "58cb29aa-443b-4ee3-8039-5c98153287eb",
   "metadata": {},
   "outputs": [
    {
     "name": "stdout",
     "output_type": "stream",
     "text": [
      "[400, 100, 500, 200, 300] <class 'list'>\n",
      "-----------------------\n",
      "0    400\n",
      "1    100\n",
      "2    500\n",
      "3    200\n",
      "4    300\n",
      "dtype: int64 <class 'pandas.core.series.Series'>\n"
     ]
    }
   ],
   "source": [
    "S1 ={100,200,300,400,500} # Set never follows insertion order\n",
    "S2 = list(S1)\n",
    "print(S2,type(S2))\n",
    "print(\"-----------------------\")\n",
    "s = pd.Series(S2) \n",
    "print(s,type(s))"
   ]
  },
  {
   "cell_type": "markdown",
   "id": "6ec365f0-3325-4511-8f34-d07c24a3145a",
   "metadata": {},
   "source": [
    "# Creating a series object by using DICT with default indices"
   ]
  },
  {
   "cell_type": "code",
   "execution_count": 41,
   "id": "b52bb9be-dca7-4654-9c3c-486c77a37fb1",
   "metadata": {},
   "outputs": [
    {
     "name": "stdout",
     "output_type": "stream",
     "text": [
      "{10: 'Vinay', 20: 'Sai', 30: 'Batta'} <class 'dict'>\n"
     ]
    }
   ],
   "source": [
    "D1 = {10:\"Vinay\",20:\"Sai\",30:\"Batta\"}\n",
    "print(D1,type(D1))"
   ]
  },
  {
   "cell_type": "code",
   "execution_count": 42,
   "id": "20b499ec-8dc9-4cd5-ad68-551bd33ef689",
   "metadata": {},
   "outputs": [
    {
     "name": "stdout",
     "output_type": "stream",
     "text": [
      "{10: 'Vinay', 20: 'Sai', 30: 'Batta'} <class 'dict'>\n",
      "-------------------------------\n",
      "10    Vinay\n",
      "20      Sai\n",
      "30    Batta\n",
      "dtype: object <class 'pandas.core.series.Series'>\n"
     ]
    }
   ],
   "source": [
    "D1 = {10:\"Vinay\",20:\"Sai\",30:\"Batta\"}\n",
    "print(D1,type(D1))\n",
    "print(\"-------------------------------\")\n",
    "s = pd.Series(D1)\n",
    "print(s,type(s))"
   ]
  },
  {
   "cell_type": "code",
   "execution_count": 43,
   "id": "88bf082e-b359-4967-a199-d1d3ba3a67f1",
   "metadata": {},
   "outputs": [
    {
     "data": {
      "text/plain": [
       "'Vinay'"
      ]
     },
     "execution_count": 43,
     "metadata": {},
     "output_type": "execute_result"
    }
   ],
   "source": [
    "s [10]"
   ]
  },
  {
   "cell_type": "code",
   "execution_count": 44,
   "id": "216f9b5e-5ed8-4f29-b4e3-b3296176f43e",
   "metadata": {},
   "outputs": [
    {
     "data": {
      "text/plain": [
       "'Sai'"
      ]
     },
     "execution_count": 44,
     "metadata": {},
     "output_type": "execute_result"
    }
   ],
   "source": [
    "s[20]"
   ]
  },
  {
   "cell_type": "code",
   "execution_count": null,
   "id": "c7f553f6-e23a-4b06-947e-2a752c9b292c",
   "metadata": {},
   "outputs": [],
   "source": []
  }
 ],
 "metadata": {
  "kernelspec": {
   "display_name": "Python 3 (ipykernel)",
   "language": "python",
   "name": "python3"
  },
  "language_info": {
   "codemirror_mode": {
    "name": "ipython",
    "version": 3
   },
   "file_extension": ".py",
   "mimetype": "text/x-python",
   "name": "python",
   "nbconvert_exporter": "python",
   "pygments_lexer": "ipython3",
   "version": "3.12.4"
  }
 },
 "nbformat": 4,
 "nbformat_minor": 5
}
