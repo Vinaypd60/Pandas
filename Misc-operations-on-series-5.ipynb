{
 "cells": [
  {
   "cell_type": "code",
   "execution_count": 1,
   "id": "7bee2828-2b59-4f17-9633-659c758bc6f2",
   "metadata": {},
   "outputs": [],
   "source": [
    "import pandas as pd\n",
    "import numpy as np"
   ]
  },
  {
   "cell_type": "markdown",
   "id": "6aba1b7a-35e0-4614-87bd-e828b2405d0e",
   "metadata": {},
   "source": [
    "# dropna(),values_count(), unique(), nunique(), sort_values(), idmax(), idmin(), pow(), le(), gt(), eq()"
   ]
  },
  {
   "cell_type": "code",
   "execution_count": 2,
   "id": "850ab887-46d1-4ba4-839a-984af050f9ac",
   "metadata": {},
   "outputs": [
    {
     "name": "stdout",
     "output_type": "stream",
     "text": [
      "Series Elements\n",
      "0    10.0\n",
      "1    20.0\n",
      "2     NaN\n",
      "3    40.0\n",
      "4    12.0\n",
      "5    14.0\n",
      "6     NaN\n",
      "dtype: float64\n"
     ]
    }
   ],
   "source": [
    "# valid()\n",
    "s = pd.Series([10,20,np.NaN,40,12,14,None])\n",
    "print(\"Series Elements\")\n",
    "print(s)"
   ]
  },
  {
   "cell_type": "code",
   "execution_count": 8,
   "id": "c7322c8f-7fa6-44e5-8347-ed21f6718b43",
   "metadata": {},
   "outputs": [
    {
     "name": "stdout",
     "output_type": "stream",
     "text": [
      "Series Elements before dropna()\n",
      "0    10.0\n",
      "1    20.0\n",
      "2     NaN\n",
      "3    40.0\n",
      "4    12.0\n",
      "5    14.0\n",
      "6     NaN\n",
      "dtype: float64\n",
      "Series Elements after dropna()\n",
      "0    10.0\n",
      "1    20.0\n",
      "3    40.0\n",
      "4    12.0\n",
      "5    14.0\n",
      "dtype: float64\n"
     ]
    }
   ],
   "source": [
    "s = pd.Series([10,20,np.NaN,40,12,14,None])\n",
    "print(\"Series Elements before dropna()\")\n",
    "print(s)\n",
    "s.dropna(inplace=True)\n",
    "print(\"Series Elements after dropna()\")\n",
    "print(s)"
   ]
  },
  {
   "cell_type": "code",
   "execution_count": 9,
   "id": "3786a749-d527-420a-ab37-49a108a9fb8e",
   "metadata": {},
   "outputs": [
    {
     "name": "stdout",
     "output_type": "stream",
     "text": [
      "0     10\n",
      "1     20\n",
      "2     30\n",
      "3     10\n",
      "4     20\n",
      "5     30\n",
      "6     40\n",
      "7     50\n",
      "8     10\n",
      "9     20\n",
      "10    30\n",
      "dtype: int64\n"
     ]
    }
   ],
   "source": [
    "# value_counts()\n",
    "s = pd.Series([10,20,30,10,20,30,40,50,10,20,30])\n",
    "print(s)"
   ]
  },
  {
   "cell_type": "code",
   "execution_count": 12,
   "id": "5e8828b3-7702-4c78-b2c5-7ba7fb2715b2",
   "metadata": {},
   "outputs": [
    {
     "name": "stdout",
     "output_type": "stream",
     "text": [
      "0     10\n",
      "1     20\n",
      "2     30\n",
      "3     10\n",
      "4     20\n",
      "5     30\n",
      "6     40\n",
      "7     50\n",
      "8     10\n",
      "9     20\n",
      "10    30\n",
      "dtype: int64\n",
      "-------------------\n"
     ]
    },
    {
     "data": {
      "text/plain": [
       "10    3\n",
       "20    3\n",
       "30    3\n",
       "40    1\n",
       "50    1\n",
       "Name: count, dtype: int64"
      ]
     },
     "execution_count": 12,
     "metadata": {},
     "output_type": "execute_result"
    }
   ],
   "source": [
    "s = pd.Series([10,20,30,10,20,30,40,50,10,20,30])\n",
    "print(s)\n",
    "print(\"-------------------\")\n",
    "s.value_counts()"
   ]
  },
  {
   "cell_type": "code",
   "execution_count": 13,
   "id": "d25981a1-674b-4b71-8075-414857f8d558",
   "metadata": {},
   "outputs": [
    {
     "name": "stdout",
     "output_type": "stream",
     "text": [
      "0     10\n",
      "1     20\n",
      "2     30\n",
      "3     10\n",
      "4     20\n",
      "5     30\n",
      "6     40\n",
      "7     50\n",
      "8     10\n",
      "9     20\n",
      "10    30\n",
      "dtype: int64\n",
      "-------------------\n"
     ]
    },
    {
     "data": {
      "text/plain": [
       "array([10, 20, 30, 40, 50], dtype=int64)"
      ]
     },
     "execution_count": 13,
     "metadata": {},
     "output_type": "execute_result"
    }
   ],
   "source": [
    "# unique()\n",
    "s = pd.Series([10,20,30,10,20,30,40,50,10,20,30])\n",
    "print(s)\n",
    "print(\"-------------------\")\n",
    "s.unique()"
   ]
  },
  {
   "cell_type": "code",
   "execution_count": 14,
   "id": "1bd0aeeb-3318-411a-8808-dab0bcf75d73",
   "metadata": {},
   "outputs": [
    {
     "name": "stdout",
     "output_type": "stream",
     "text": [
      "0     10\n",
      "1     20\n",
      "2     30\n",
      "3     10\n",
      "4     20\n",
      "5     30\n",
      "6     40\n",
      "7     50\n",
      "8     10\n",
      "9     20\n",
      "10    30\n",
      "dtype: int64\n",
      "-------------------\n"
     ]
    },
    {
     "data": {
      "text/plain": [
       "5"
      ]
     },
     "execution_count": 14,
     "metadata": {},
     "output_type": "execute_result"
    }
   ],
   "source": [
    "# nunique()\n",
    "s = pd.Series([10,20,30,10,20,30,40,50,10,20,30])\n",
    "print(s)\n",
    "print(\"-------------------\")\n",
    "s.nunique()"
   ]
  },
  {
   "cell_type": "code",
   "execution_count": 16,
   "id": "2ec2f26e-ea5c-446e-b259-a4748f90d36b",
   "metadata": {},
   "outputs": [
    {
     "name": "stdout",
     "output_type": "stream",
     "text": [
      "Sprite      29\n",
      "Thumsup     43\n",
      "Fanta       12\n",
      "Cococola     4\n",
      "Due         21\n",
      "String      32\n",
      "dtype: int64\n",
      "-------------------------\n"
     ]
    },
    {
     "data": {
      "text/plain": [
       "Cococola     4\n",
       "Fanta       12\n",
       "Due         21\n",
       "Sprite      29\n",
       "String      32\n",
       "Thumsup     43\n",
       "dtype: int64"
      ]
     },
     "execution_count": 16,
     "metadata": {},
     "output_type": "execute_result"
    }
   ],
   "source": [
    "# sort_values()\n",
    "s = pd.Series([29,43,12,4,21,32],index=[\"Sprite\",\"Thumsup\",\"Fanta\",\"Cococola\",\"Due\",\"String\"])\n",
    "print(s)\n",
    "print(\"-------------------------\")\n",
    "s.sort_values()"
   ]
  },
  {
   "cell_type": "code",
   "execution_count": null,
   "id": "2b396938-c1f4-4a5d-a267-02121d2a80e1",
   "metadata": {},
   "outputs": [],
   "source": []
  }
 ],
 "metadata": {
  "kernelspec": {
   "display_name": "Python 3 (ipykernel)",
   "language": "python",
   "name": "python3"
  },
  "language_info": {
   "codemirror_mode": {
    "name": "ipython",
    "version": 3
   },
   "file_extension": ".py",
   "mimetype": "text/x-python",
   "name": "python",
   "nbconvert_exporter": "python",
   "pygments_lexer": "ipython3",
   "version": "3.12.4"
  }
 },
 "nbformat": 4,
 "nbformat_minor": 5
}
