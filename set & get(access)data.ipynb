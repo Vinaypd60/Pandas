{
 "cells": [
  {
   "cell_type": "markdown",
   "id": "f0cbb5e5-255e-41f5-9fb3-6c89d69698ff",
   "metadata": {},
   "source": [
    "# set and get the data to/from series object"
   ]
  },
  {
   "cell_type": "markdown",
   "id": "077df078-5894-4ae9-88f3-c8b8511df81c",
   "metadata": {},
   "source": [
    "## Accessing the data from series object"
   ]
  },
  {
   "cell_type": "code",
   "execution_count": 1,
   "id": "41250385-751d-4a11-8c0a-81f7dbf34c4c",
   "metadata": {},
   "outputs": [],
   "source": [
    "import pandas as pd"
   ]
  },
  {
   "cell_type": "code",
   "execution_count": 2,
   "id": "84338711-1952-4f09-aa3e-be1e3794ab23",
   "metadata": {},
   "outputs": [
    {
     "name": "stdout",
     "output_type": "stream",
     "text": [
      "0      Mark\n",
      "1      John\n",
      "2      Rita\n",
      "3     Vikki\n",
      "4    Justin\n",
      "5    Michal\n",
      "dtype: object\n"
     ]
    }
   ],
   "source": [
    "names = pd.Series([\"Mark\",\"John\",\"Rita\",\"Vikki\",\"Justin\",\"Michal\"])\n",
    "print(names)"
   ]
  },
  {
   "cell_type": "code",
   "execution_count": 3,
   "id": "8b88c111-abd4-44dc-a1e7-4c156067e78d",
   "metadata": {},
   "outputs": [
    {
     "name": "stdout",
     "output_type": "stream",
     "text": [
      "Mark\n"
     ]
    }
   ],
   "source": [
    "## syntax 1: seriesobj[index]\n",
    "print(names[0])"
   ]
  },
  {
   "cell_type": "code",
   "execution_count": 4,
   "id": "3e58909f-0372-473b-a092-8a0432f62965",
   "metadata": {},
   "outputs": [
    {
     "name": "stdout",
     "output_type": "stream",
     "text": [
      "John\n"
     ]
    }
   ],
   "source": [
    "print(names[1])"
   ]
  },
  {
   "cell_type": "code",
   "execution_count": 7,
   "id": "118c83aa-1f0b-4946-9d6b-b0730dafd573",
   "metadata": {},
   "outputs": [
    {
     "name": "stdout",
     "output_type": "stream",
     "text": [
      "0     Mark\n",
      "1     John\n",
      "2     Rita\n",
      "3    Vikki\n",
      "dtype: object\n"
     ]
    }
   ],
   "source": [
    "## syntax 2: seriesobj[start:endindex:step]\n",
    "print(names[0:4])"
   ]
  },
  {
   "cell_type": "code",
   "execution_count": 10,
   "id": "f942cee5-0912-497e-95aa-b9ece8b89995",
   "metadata": {},
   "outputs": [
    {
     "name": "stdout",
     "output_type": "stream",
     "text": [
      "0      Mark\n",
      "2      Rita\n",
      "4    Justin\n",
      "dtype: object\n"
     ]
    }
   ],
   "source": [
    "print(names[0:6:2])"
   ]
  },
  {
   "cell_type": "code",
   "execution_count": 12,
   "id": "9a1859c5-415c-48bb-abd3-587badbc5ce3",
   "metadata": {},
   "outputs": [
    {
     "name": "stdout",
     "output_type": "stream",
     "text": [
      "0      Mark\n",
      "2      Rita\n",
      "4    Justin\n",
      "dtype: object\n",
      "0      Mark\n",
      "2      Rita\n",
      "4    Justin\n",
      "dtype: object\n",
      "0      Mark\n",
      "2      Rita\n",
      "4    Justin\n",
      "dtype: object\n",
      "0      Mark\n",
      "2      Rita\n",
      "4    Justin\n",
      "dtype: object\n"
     ]
    }
   ],
   "source": [
    "print(names[0:6:2])\n",
    "print(names[0::2])\n",
    "print(names[:6:2])\n",
    "print(names[::2])"
   ]
  },
  {
   "cell_type": "code",
   "execution_count": 13,
   "id": "2fac8b02-b23d-46d1-ba2c-847d6619a3aa",
   "metadata": {},
   "outputs": [
    {
     "name": "stdout",
     "output_type": "stream",
     "text": [
      "5    Michal\n",
      "4    Justin\n",
      "3     Vikki\n",
      "2      Rita\n",
      "1      John\n",
      "0      Mark\n",
      "dtype: object\n"
     ]
    }
   ],
   "source": [
    "print(names[::-1])"
   ]
  },
  {
   "cell_type": "code",
   "execution_count": 14,
   "id": "9f075a06-228a-444c-a91e-4ad45036cdb5",
   "metadata": {},
   "outputs": [
    {
     "data": {
      "text/plain": [
       "0      Mark\n",
       "4    Justin\n",
       "5    Michal\n",
       "dtype: object"
      ]
     },
     "execution_count": 14,
     "metadata": {},
     "output_type": "execute_result"
    }
   ],
   "source": [
    "## syntax-3: seriesobj[[indices of random elements]]\n",
    "names[[0,4,5]]"
   ]
  },
  {
   "cell_type": "code",
   "execution_count": null,
   "id": "d79b5921-cf08-482f-9f65-8a7df9dcd022",
   "metadata": {},
   "outputs": [],
   "source": []
  }
 ],
 "metadata": {
  "kernelspec": {
   "display_name": "Python 3 (ipykernel)",
   "language": "python",
   "name": "python3"
  },
  "language_info": {
   "codemirror_mode": {
    "name": "ipython",
    "version": 3
   },
   "file_extension": ".py",
   "mimetype": "text/x-python",
   "name": "python",
   "nbconvert_exporter": "python",
   "pygments_lexer": "ipython3",
   "version": "3.12.4"
  }
 },
 "nbformat": 4,
 "nbformat_minor": 5
}
